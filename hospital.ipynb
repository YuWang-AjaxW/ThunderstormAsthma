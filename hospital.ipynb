{
 "cells": [
  {
   "cell_type": "markdown",
   "metadata": {},
   "source": [
    "# 1. Initialisation "
   ]
  },
  {
   "cell_type": "code",
   "execution_count": 1,
   "metadata": {},
   "outputs": [],
   "source": [
    "import pandas as pd\n",
    "import numpy as np\n",
    "import math"
   ]
  },
  {
   "cell_type": "markdown",
   "metadata": {},
   "source": [
    "# 2. Read data"
   ]
  },
  {
   "cell_type": "code",
   "execution_count": 2,
   "metadata": {},
   "outputs": [],
   "source": [
    "school = pd.read_csv(\"schools_jun_20.csv\")\n",
    "aged_care = pd.read_csv(\"aged_care_list.csv\")\n",
    "hospital = pd.read_csv(\"Hospital_Locations.csv\")"
   ]
  },
  {
   "cell_type": "code",
   "execution_count": 3,
   "metadata": {},
   "outputs": [
    {
     "data": {
      "text/html": [
       "<div>\n",
       "<style scoped>\n",
       "    .dataframe tbody tr th:only-of-type {\n",
       "        vertical-align: middle;\n",
       "    }\n",
       "\n",
       "    .dataframe tbody tr th {\n",
       "        vertical-align: top;\n",
       "    }\n",
       "\n",
       "    .dataframe thead th {\n",
       "        text-align: right;\n",
       "    }\n",
       "</style>\n",
       "<table border=\"1\" class=\"dataframe\">\n",
       "  <thead>\n",
       "    <tr style=\"text-align: right;\">\n",
       "      <th></th>\n",
       "      <th>school_name</th>\n",
       "      <th>address</th>\n",
       "      <th>town</th>\n",
       "      <th>lga_name</th>\n",
       "      <th>x</th>\n",
       "      <th>y</th>\n",
       "    </tr>\n",
       "  </thead>\n",
       "  <tbody>\n",
       "    <tr>\n",
       "      <th>0</th>\n",
       "      <td>Alberton Primary School</td>\n",
       "      <td>21 Thomson Street Alberton VIC 3971</td>\n",
       "      <td>Alberton</td>\n",
       "      <td>Wellington (S)</td>\n",
       "      <td>-38.61771</td>\n",
       "      <td>146.66660</td>\n",
       "    </tr>\n",
       "    <tr>\n",
       "      <th>1</th>\n",
       "      <td>Allansford and District Primary School</td>\n",
       "      <td>Frank Street Allansford VIC 3277</td>\n",
       "      <td>Allansford</td>\n",
       "      <td>Warrnambool (C)</td>\n",
       "      <td>-38.38628</td>\n",
       "      <td>142.59039</td>\n",
       "    </tr>\n",
       "    <tr>\n",
       "      <th>2</th>\n",
       "      <td>Avoca Primary School</td>\n",
       "      <td>118 Barnett Street Avoca VIC 3467</td>\n",
       "      <td>Avoca</td>\n",
       "      <td>Pyrenees (S)</td>\n",
       "      <td>-37.08450</td>\n",
       "      <td>143.47565</td>\n",
       "    </tr>\n",
       "    <tr>\n",
       "      <th>3</th>\n",
       "      <td>Avenel Primary School</td>\n",
       "      <td>40 Anderson Street Avenel VIC 3664</td>\n",
       "      <td>Avenel</td>\n",
       "      <td>Strathbogie (S)</td>\n",
       "      <td>-36.90137</td>\n",
       "      <td>145.23472</td>\n",
       "    </tr>\n",
       "    <tr>\n",
       "      <th>4</th>\n",
       "      <td>Warrandyte Primary School</td>\n",
       "      <td>5-11 Forbes Street Warrandyte VIC 3113</td>\n",
       "      <td>Warrandyte</td>\n",
       "      <td>Manningham (C)</td>\n",
       "      <td>-37.74268</td>\n",
       "      <td>145.21398</td>\n",
       "    </tr>\n",
       "  </tbody>\n",
       "</table>\n",
       "</div>"
      ],
      "text/plain": [
       "                              school_name  \\\n",
       "0                 Alberton Primary School   \n",
       "1  Allansford and District Primary School   \n",
       "2                    Avoca Primary School   \n",
       "3                   Avenel Primary School   \n",
       "4               Warrandyte Primary School   \n",
       "\n",
       "                                  address        town         lga_name  \\\n",
       "0     21 Thomson Street Alberton VIC 3971    Alberton   Wellington (S)   \n",
       "1        Frank Street Allansford VIC 3277  Allansford  Warrnambool (C)   \n",
       "2       118 Barnett Street Avoca VIC 3467       Avoca     Pyrenees (S)   \n",
       "3      40 Anderson Street Avenel VIC 3664      Avenel  Strathbogie (S)   \n",
       "4  5-11 Forbes Street Warrandyte VIC 3113  Warrandyte   Manningham (C)   \n",
       "\n",
       "          x          y  \n",
       "0 -38.61771  146.66660  \n",
       "1 -38.38628  142.59039  \n",
       "2 -37.08450  143.47565  \n",
       "3 -36.90137  145.23472  \n",
       "4 -37.74268  145.21398  "
      ]
     },
     "execution_count": 3,
     "metadata": {},
     "output_type": "execute_result"
    }
   ],
   "source": [
    "school.head()"
   ]
  },
  {
   "cell_type": "code",
   "execution_count": 4,
   "metadata": {},
   "outputs": [
    {
     "data": {
      "text/plain": [
       "school_name     object\n",
       "address         object\n",
       "town            object\n",
       "lga_name        object\n",
       "x              float64\n",
       "y              float64\n",
       "dtype: object"
      ]
     },
     "execution_count": 4,
     "metadata": {},
     "output_type": "execute_result"
    }
   ],
   "source": [
    "school.dtypes"
   ]
  },
  {
   "cell_type": "code",
   "execution_count": 5,
   "metadata": {},
   "outputs": [
    {
     "data": {
      "text/html": [
       "<div>\n",
       "<style scoped>\n",
       "    .dataframe tbody tr th:only-of-type {\n",
       "        vertical-align: middle;\n",
       "    }\n",
       "\n",
       "    .dataframe tbody tr th {\n",
       "        vertical-align: top;\n",
       "    }\n",
       "\n",
       "    .dataframe thead th {\n",
       "        text-align: right;\n",
       "    }\n",
       "</style>\n",
       "<table border=\"1\" class=\"dataframe\">\n",
       "  <thead>\n",
       "    <tr style=\"text-align: right;\">\n",
       "      <th></th>\n",
       "      <th>SERVICE_NAME</th>\n",
       "      <th>ADDRESS</th>\n",
       "      <th>STREET_SUBURB</th>\n",
       "    </tr>\n",
       "  </thead>\n",
       "  <tbody>\n",
       "    <tr>\n",
       "      <th>0</th>\n",
       "      <td>Mercy Place East Melbourne</td>\n",
       "      <td>22 Verona Lane East Melbourne 3002 VIC Australia</td>\n",
       "      <td>East Melbourne</td>\n",
       "    </tr>\n",
       "    <tr>\n",
       "      <th>1</th>\n",
       "      <td>Royal Freemasons Coppin Centre</td>\n",
       "      <td>45 Moubray Street Melbourne 3004 VIC Australia</td>\n",
       "      <td>Melbourne</td>\n",
       "    </tr>\n",
       "    <tr>\n",
       "      <th>2</th>\n",
       "      <td>Jewish Care : Residential Homes, Windsor</td>\n",
       "      <td>619 St Kilda Road Melbourne 3004 VIC Australia</td>\n",
       "      <td>Melbourne</td>\n",
       "    </tr>\n",
       "    <tr>\n",
       "      <th>3</th>\n",
       "      <td>James Barker House</td>\n",
       "      <td>64 Buckley Street Footscray 3011 VIC Australia</td>\n",
       "      <td>Footscray</td>\n",
       "    </tr>\n",
       "    <tr>\n",
       "      <th>4</th>\n",
       "      <td>Royal Freemasons Footscray Aged Care</td>\n",
       "      <td>25 Mephan Street Footscray 3011 VIC Australia</td>\n",
       "      <td>Footscray</td>\n",
       "    </tr>\n",
       "  </tbody>\n",
       "</table>\n",
       "</div>"
      ],
      "text/plain": [
       "                               SERVICE_NAME  \\\n",
       "0                Mercy Place East Melbourne   \n",
       "1            Royal Freemasons Coppin Centre   \n",
       "2  Jewish Care : Residential Homes, Windsor   \n",
       "3                        James Barker House   \n",
       "4      Royal Freemasons Footscray Aged Care   \n",
       "\n",
       "                                            ADDRESS   STREET_SUBURB  \n",
       "0  22 Verona Lane East Melbourne 3002 VIC Australia  East Melbourne  \n",
       "1    45 Moubray Street Melbourne 3004 VIC Australia       Melbourne  \n",
       "2    619 St Kilda Road Melbourne 3004 VIC Australia       Melbourne  \n",
       "3    64 Buckley Street Footscray 3011 VIC Australia       Footscray  \n",
       "4     25 Mephan Street Footscray 3011 VIC Australia       Footscray  "
      ]
     },
     "execution_count": 5,
     "metadata": {},
     "output_type": "execute_result"
    }
   ],
   "source": [
    "aged_care.head()"
   ]
  },
  {
   "cell_type": "code",
   "execution_count": 6,
   "metadata": {},
   "outputs": [
    {
     "data": {
      "text/plain": [
       "SERVICE_NAME     object\n",
       "ADDRESS          object\n",
       "STREET_SUBURB    object\n",
       "dtype: object"
      ]
     },
     "execution_count": 6,
     "metadata": {},
     "output_type": "execute_result"
    }
   ],
   "source": [
    "aged_care.dtypes"
   ]
  },
  {
   "cell_type": "code",
   "execution_count": 7,
   "metadata": {},
   "outputs": [
    {
     "data": {
      "text/html": [
       "<div>\n",
       "<style scoped>\n",
       "    .dataframe tbody tr th:only-of-type {\n",
       "        vertical-align: middle;\n",
       "    }\n",
       "\n",
       "    .dataframe tbody tr th {\n",
       "        vertical-align: top;\n",
       "    }\n",
       "\n",
       "    .dataframe thead th {\n",
       "        text-align: right;\n",
       "    }\n",
       "</style>\n",
       "<table border=\"1\" class=\"dataframe\">\n",
       "  <thead>\n",
       "    <tr style=\"text-align: right;\">\n",
       "      <th></th>\n",
       "      <th>X</th>\n",
       "      <th>Y</th>\n",
       "      <th>FID</th>\n",
       "      <th>LabelName</th>\n",
       "      <th>OpsName</th>\n",
       "      <th>Type</th>\n",
       "      <th>StreetNum</th>\n",
       "      <th>RoadName</th>\n",
       "      <th>RoadType</th>\n",
       "      <th>RoadSuffix</th>\n",
       "      <th>CampusCode</th>\n",
       "      <th>LGAName</th>\n",
       "      <th>LocalityNa</th>\n",
       "      <th>Postcode</th>\n",
       "      <th>VicgovRegi</th>\n",
       "      <th>State</th>\n",
       "      <th>ServiceNam</th>\n",
       "    </tr>\n",
       "  </thead>\n",
       "  <tbody>\n",
       "    <tr>\n",
       "      <th>0</th>\n",
       "      <td>144.983399</td>\n",
       "      <td>-37.809681</td>\n",
       "      <td>1</td>\n",
       "      <td>East Melbourne Specialist Day Hospital</td>\n",
       "      <td>EAST MELBOURNE DAY HOSPITAL</td>\n",
       "      <td>PRIVATE</td>\n",
       "      <td>23</td>\n",
       "      <td>CLARENDON</td>\n",
       "      <td>STREET</td>\n",
       "      <td></td>\n",
       "      <td>8280</td>\n",
       "      <td>MELBOURNE</td>\n",
       "      <td></td>\n",
       "      <td>3002</td>\n",
       "      <td>NWMR</td>\n",
       "      <td>VIC</td>\n",
       "      <td></td>\n",
       "    </tr>\n",
       "    <tr>\n",
       "      <th>1</th>\n",
       "      <td>145.149300</td>\n",
       "      <td>-37.951400</td>\n",
       "      <td>2</td>\n",
       "      <td>Windsor Avenue Day Surgery</td>\n",
       "      <td>WINDSOR AVENUE DAY SURGERY</td>\n",
       "      <td>PRIVATE</td>\n",
       "      <td>17</td>\n",
       "      <td>WINDSOR</td>\n",
       "      <td>AVENUE</td>\n",
       "      <td></td>\n",
       "      <td>7050</td>\n",
       "      <td>GREATER DANDENONG</td>\n",
       "      <td></td>\n",
       "      <td>3171</td>\n",
       "      <td>SMR</td>\n",
       "      <td>VIC</td>\n",
       "      <td></td>\n",
       "    </tr>\n",
       "    <tr>\n",
       "      <th>2</th>\n",
       "      <td>145.344653</td>\n",
       "      <td>-38.034580</td>\n",
       "      <td>3</td>\n",
       "      <td>Hyperbaric Health Wound Centre Berwick</td>\n",
       "      <td>HYPERBARIC HEALTH - BERWICK</td>\n",
       "      <td>PRIVATE</td>\n",
       "      <td>3</td>\n",
       "      <td>GIBB</td>\n",
       "      <td>STREET</td>\n",
       "      <td></td>\n",
       "      <td>7100</td>\n",
       "      <td>CASEY</td>\n",
       "      <td></td>\n",
       "      <td>3806</td>\n",
       "      <td>SMR</td>\n",
       "      <td>VIC</td>\n",
       "      <td></td>\n",
       "    </tr>\n",
       "    <tr>\n",
       "      <th>3</th>\n",
       "      <td>143.832286</td>\n",
       "      <td>-37.540553</td>\n",
       "      <td>4</td>\n",
       "      <td>Ballarat Day Procedure Centre</td>\n",
       "      <td>BALLARAT DAY PROCEDURE CENTRE</td>\n",
       "      <td>PRIVATE</td>\n",
       "      <td>1117-1123</td>\n",
       "      <td>HOWITT</td>\n",
       "      <td>STREET</td>\n",
       "      <td></td>\n",
       "      <td>8430</td>\n",
       "      <td>BALLARAT</td>\n",
       "      <td></td>\n",
       "      <td>3355</td>\n",
       "      <td>Gram</td>\n",
       "      <td>VIC</td>\n",
       "      <td></td>\n",
       "    </tr>\n",
       "    <tr>\n",
       "      <th>4</th>\n",
       "      <td>145.143379</td>\n",
       "      <td>-38.148189</td>\n",
       "      <td>5</td>\n",
       "      <td>Bayside Day Procedure and Specialist Centre</td>\n",
       "      <td>BAYSIDE DAY PROCEDURE CENTRE</td>\n",
       "      <td>PRIVATE</td>\n",
       "      <td>141</td>\n",
       "      <td>CRANBOURNE</td>\n",
       "      <td>ROAD</td>\n",
       "      <td></td>\n",
       "      <td>7310</td>\n",
       "      <td>FRANKSTON</td>\n",
       "      <td></td>\n",
       "      <td>3199</td>\n",
       "      <td>SMR</td>\n",
       "      <td>VIC</td>\n",
       "      <td></td>\n",
       "    </tr>\n",
       "  </tbody>\n",
       "</table>\n",
       "</div>"
      ],
      "text/plain": [
       "            X          Y  FID                                    LabelName  \\\n",
       "0  144.983399 -37.809681    1       East Melbourne Specialist Day Hospital   \n",
       "1  145.149300 -37.951400    2                   Windsor Avenue Day Surgery   \n",
       "2  145.344653 -38.034580    3       Hyperbaric Health Wound Centre Berwick   \n",
       "3  143.832286 -37.540553    4                Ballarat Day Procedure Centre   \n",
       "4  145.143379 -38.148189    5  Bayside Day Procedure and Specialist Centre   \n",
       "\n",
       "                         OpsName     Type  StreetNum    RoadName RoadType  \\\n",
       "0    EAST MELBOURNE DAY HOSPITAL  PRIVATE         23   CLARENDON   STREET   \n",
       "1     WINDSOR AVENUE DAY SURGERY  PRIVATE         17     WINDSOR   AVENUE   \n",
       "2    HYPERBARIC HEALTH - BERWICK  PRIVATE          3        GIBB   STREET   \n",
       "3  BALLARAT DAY PROCEDURE CENTRE  PRIVATE  1117-1123      HOWITT   STREET   \n",
       "4   BAYSIDE DAY PROCEDURE CENTRE  PRIVATE        141  CRANBOURNE     ROAD   \n",
       "\n",
       "  RoadSuffix  CampusCode            LGAName LocalityNa  Postcode VicgovRegi  \\\n",
       "0                   8280          MELBOURNE                 3002       NWMR   \n",
       "1                   7050  GREATER DANDENONG                 3171        SMR   \n",
       "2                   7100              CASEY                 3806        SMR   \n",
       "3                   8430           BALLARAT                 3355       Gram   \n",
       "4                   7310          FRANKSTON                 3199        SMR   \n",
       "\n",
       "  State ServiceNam  \n",
       "0   VIC             \n",
       "1   VIC             \n",
       "2   VIC             \n",
       "3   VIC             \n",
       "4   VIC             "
      ]
     },
     "execution_count": 7,
     "metadata": {},
     "output_type": "execute_result"
    }
   ],
   "source": [
    "hospital.head()"
   ]
  },
  {
   "cell_type": "code",
   "execution_count": 8,
   "metadata": {},
   "outputs": [
    {
     "data": {
      "text/plain": [
       "X             float64\n",
       "Y             float64\n",
       "FID             int64\n",
       "LabelName      object\n",
       "OpsName        object\n",
       "Type           object\n",
       "StreetNum      object\n",
       "RoadName       object\n",
       "RoadType       object\n",
       "RoadSuffix     object\n",
       "CampusCode      int64\n",
       "LGAName        object\n",
       "LocalityNa     object\n",
       "Postcode        int64\n",
       "VicgovRegi     object\n",
       "State          object\n",
       "ServiceNam     object\n",
       "dtype: object"
      ]
     },
     "execution_count": 8,
     "metadata": {},
     "output_type": "execute_result"
    }
   ],
   "source": [
    "hospital.dtypes"
   ]
  },
  {
   "cell_type": "markdown",
   "metadata": {},
   "source": [
    "# 3. Split 'hospital' dataset by type"
   ]
  },
  {
   "cell_type": "code",
   "execution_count": 9,
   "metadata": {},
   "outputs": [
    {
     "data": {
      "text/plain": [
       "array(['PRIVATE', 'PUBLIC'], dtype=object)"
      ]
     },
     "execution_count": 9,
     "metadata": {},
     "output_type": "execute_result"
    }
   ],
   "source": [
    "hospital['Type'].unique()"
   ]
  },
  {
   "cell_type": "code",
   "execution_count": 10,
   "metadata": {},
   "outputs": [],
   "source": [
    "private = hospital.loc[hospital['Type'] == 'PRIVATE']"
   ]
  },
  {
   "cell_type": "code",
   "execution_count": 11,
   "metadata": {},
   "outputs": [],
   "source": [
    "public = hospital.loc[hospital['Type'] == 'PUBLIC']"
   ]
  },
  {
   "cell_type": "code",
   "execution_count": 12,
   "metadata": {},
   "outputs": [],
   "source": [
    "# correct address format function\n",
    "def formattedName(a_input):\n",
    "    a_input = a_input.strip()\n",
    "    if \" \" not in a_input:\n",
    "        a_input = a_input.capitalize()\n",
    "    elif \" \" in a_input:\n",
    "        a_input = road.lower()\n",
    "        a_input = a_input.capitalize()\n",
    "        space_idx = []\n",
    "        for j in range(len(a_input)):\n",
    "            value = a_input[j]\n",
    "            if value == \" \":\n",
    "                space_idx.append(j)\n",
    "        for n in space_idx:\n",
    "            a_input = a_input[:n+1] + a_input[n+1].upper() + a_input[n+2:]\n",
    "    \n",
    "    return (a_input)"
   ]
  },
  {
   "cell_type": "markdown",
   "metadata": {},
   "source": [
    "## 3.1 Private hospital"
   ]
  },
  {
   "cell_type": "code",
   "execution_count": 13,
   "metadata": {},
   "outputs": [
    {
     "data": {
      "text/html": [
       "<div>\n",
       "<style scoped>\n",
       "    .dataframe tbody tr th:only-of-type {\n",
       "        vertical-align: middle;\n",
       "    }\n",
       "\n",
       "    .dataframe tbody tr th {\n",
       "        vertical-align: top;\n",
       "    }\n",
       "\n",
       "    .dataframe thead th {\n",
       "        text-align: right;\n",
       "    }\n",
       "</style>\n",
       "<table border=\"1\" class=\"dataframe\">\n",
       "  <thead>\n",
       "    <tr style=\"text-align: right;\">\n",
       "      <th></th>\n",
       "      <th>X</th>\n",
       "      <th>Y</th>\n",
       "      <th>FID</th>\n",
       "      <th>LabelName</th>\n",
       "      <th>OpsName</th>\n",
       "      <th>Type</th>\n",
       "      <th>StreetNum</th>\n",
       "      <th>RoadName</th>\n",
       "      <th>RoadType</th>\n",
       "      <th>RoadSuffix</th>\n",
       "      <th>CampusCode</th>\n",
       "      <th>LGAName</th>\n",
       "      <th>LocalityNa</th>\n",
       "      <th>Postcode</th>\n",
       "      <th>VicgovRegi</th>\n",
       "      <th>State</th>\n",
       "      <th>ServiceNam</th>\n",
       "    </tr>\n",
       "  </thead>\n",
       "  <tbody>\n",
       "    <tr>\n",
       "      <th>0</th>\n",
       "      <td>144.983399</td>\n",
       "      <td>-37.809681</td>\n",
       "      <td>1</td>\n",
       "      <td>East Melbourne Specialist Day Hospital</td>\n",
       "      <td>EAST MELBOURNE DAY HOSPITAL</td>\n",
       "      <td>PRIVATE</td>\n",
       "      <td>23</td>\n",
       "      <td>CLARENDON</td>\n",
       "      <td>STREET</td>\n",
       "      <td></td>\n",
       "      <td>8280</td>\n",
       "      <td>MELBOURNE</td>\n",
       "      <td></td>\n",
       "      <td>3002</td>\n",
       "      <td>NWMR</td>\n",
       "      <td>VIC</td>\n",
       "      <td></td>\n",
       "    </tr>\n",
       "    <tr>\n",
       "      <th>1</th>\n",
       "      <td>145.149300</td>\n",
       "      <td>-37.951400</td>\n",
       "      <td>2</td>\n",
       "      <td>Windsor Avenue Day Surgery</td>\n",
       "      <td>WINDSOR AVENUE DAY SURGERY</td>\n",
       "      <td>PRIVATE</td>\n",
       "      <td>17</td>\n",
       "      <td>WINDSOR</td>\n",
       "      <td>AVENUE</td>\n",
       "      <td></td>\n",
       "      <td>7050</td>\n",
       "      <td>GREATER DANDENONG</td>\n",
       "      <td></td>\n",
       "      <td>3171</td>\n",
       "      <td>SMR</td>\n",
       "      <td>VIC</td>\n",
       "      <td></td>\n",
       "    </tr>\n",
       "    <tr>\n",
       "      <th>2</th>\n",
       "      <td>145.344653</td>\n",
       "      <td>-38.034580</td>\n",
       "      <td>3</td>\n",
       "      <td>Hyperbaric Health Wound Centre Berwick</td>\n",
       "      <td>HYPERBARIC HEALTH - BERWICK</td>\n",
       "      <td>PRIVATE</td>\n",
       "      <td>3</td>\n",
       "      <td>GIBB</td>\n",
       "      <td>STREET</td>\n",
       "      <td></td>\n",
       "      <td>7100</td>\n",
       "      <td>CASEY</td>\n",
       "      <td></td>\n",
       "      <td>3806</td>\n",
       "      <td>SMR</td>\n",
       "      <td>VIC</td>\n",
       "      <td></td>\n",
       "    </tr>\n",
       "    <tr>\n",
       "      <th>3</th>\n",
       "      <td>143.832286</td>\n",
       "      <td>-37.540553</td>\n",
       "      <td>4</td>\n",
       "      <td>Ballarat Day Procedure Centre</td>\n",
       "      <td>BALLARAT DAY PROCEDURE CENTRE</td>\n",
       "      <td>PRIVATE</td>\n",
       "      <td>1117-1123</td>\n",
       "      <td>HOWITT</td>\n",
       "      <td>STREET</td>\n",
       "      <td></td>\n",
       "      <td>8430</td>\n",
       "      <td>BALLARAT</td>\n",
       "      <td></td>\n",
       "      <td>3355</td>\n",
       "      <td>Gram</td>\n",
       "      <td>VIC</td>\n",
       "      <td></td>\n",
       "    </tr>\n",
       "    <tr>\n",
       "      <th>4</th>\n",
       "      <td>145.143379</td>\n",
       "      <td>-38.148189</td>\n",
       "      <td>5</td>\n",
       "      <td>Bayside Day Procedure and Specialist Centre</td>\n",
       "      <td>BAYSIDE DAY PROCEDURE CENTRE</td>\n",
       "      <td>PRIVATE</td>\n",
       "      <td>141</td>\n",
       "      <td>CRANBOURNE</td>\n",
       "      <td>ROAD</td>\n",
       "      <td></td>\n",
       "      <td>7310</td>\n",
       "      <td>FRANKSTON</td>\n",
       "      <td></td>\n",
       "      <td>3199</td>\n",
       "      <td>SMR</td>\n",
       "      <td>VIC</td>\n",
       "      <td></td>\n",
       "    </tr>\n",
       "  </tbody>\n",
       "</table>\n",
       "</div>"
      ],
      "text/plain": [
       "            X          Y  FID                                    LabelName  \\\n",
       "0  144.983399 -37.809681    1       East Melbourne Specialist Day Hospital   \n",
       "1  145.149300 -37.951400    2                   Windsor Avenue Day Surgery   \n",
       "2  145.344653 -38.034580    3       Hyperbaric Health Wound Centre Berwick   \n",
       "3  143.832286 -37.540553    4                Ballarat Day Procedure Centre   \n",
       "4  145.143379 -38.148189    5  Bayside Day Procedure and Specialist Centre   \n",
       "\n",
       "                         OpsName     Type  StreetNum    RoadName RoadType  \\\n",
       "0    EAST MELBOURNE DAY HOSPITAL  PRIVATE         23   CLARENDON   STREET   \n",
       "1     WINDSOR AVENUE DAY SURGERY  PRIVATE         17     WINDSOR   AVENUE   \n",
       "2    HYPERBARIC HEALTH - BERWICK  PRIVATE          3        GIBB   STREET   \n",
       "3  BALLARAT DAY PROCEDURE CENTRE  PRIVATE  1117-1123      HOWITT   STREET   \n",
       "4   BAYSIDE DAY PROCEDURE CENTRE  PRIVATE        141  CRANBOURNE     ROAD   \n",
       "\n",
       "  RoadSuffix  CampusCode            LGAName LocalityNa  Postcode VicgovRegi  \\\n",
       "0                   8280          MELBOURNE                 3002       NWMR   \n",
       "1                   7050  GREATER DANDENONG                 3171        SMR   \n",
       "2                   7100              CASEY                 3806        SMR   \n",
       "3                   8430           BALLARAT                 3355       Gram   \n",
       "4                   7310          FRANKSTON                 3199        SMR   \n",
       "\n",
       "  State ServiceNam  \n",
       "0   VIC             \n",
       "1   VIC             \n",
       "2   VIC             \n",
       "3   VIC             \n",
       "4   VIC             "
      ]
     },
     "execution_count": 13,
     "metadata": {},
     "output_type": "execute_result"
    }
   ],
   "source": [
    "private.head()"
   ]
  },
  {
   "cell_type": "code",
   "execution_count": 14,
   "metadata": {},
   "outputs": [
    {
     "data": {
      "text/plain": [
       "X             float64\n",
       "Y             float64\n",
       "FID             int64\n",
       "LabelName      object\n",
       "OpsName        object\n",
       "Type           object\n",
       "StreetNum      object\n",
       "RoadName       object\n",
       "RoadType       object\n",
       "RoadSuffix     object\n",
       "CampusCode      int64\n",
       "LGAName        object\n",
       "LocalityNa     object\n",
       "Postcode        int64\n",
       "VicgovRegi     object\n",
       "State          object\n",
       "ServiceNam     object\n",
       "dtype: object"
      ]
     },
     "execution_count": 14,
     "metadata": {},
     "output_type": "execute_result"
    }
   ],
   "source": [
    "private.dtypes"
   ]
  },
  {
   "cell_type": "code",
   "execution_count": 15,
   "metadata": {},
   "outputs": [],
   "source": [
    "full_add = []\n",
    "for i in range(len(private)):\n",
    "    #get num\n",
    "    num = private['StreetNum'].iloc[i].strip()\n",
    "    \n",
    "    #get road name\n",
    "    road = formattedName(private['RoadName'].iloc[i])\n",
    "    \n",
    "    #get road type\n",
    "    road_type = formattedName(private['RoadType'].iloc[i])\n",
    "    \n",
    "    #get suburb\n",
    "    suburb = formattedName(private['LGAName'].iloc[i])\n",
    "    \n",
    "    #get postcode\n",
    "    pc = private['Postcode'].iloc[i]\n",
    "    \n",
    "    address = num + \" \" + road + \" \" + road_type + \" \" + suburb + \" VIC \" + str(pc)\n",
    "    full_add.append(address)"
   ]
  },
  {
   "cell_type": "code",
   "execution_count": 16,
   "metadata": {},
   "outputs": [
    {
     "name": "stderr",
     "output_type": "stream",
     "text": [
      "/Users/luxiaolu/opt/anaconda3/lib/python3.7/site-packages/ipykernel_launcher.py:1: SettingWithCopyWarning: \n",
      "A value is trying to be set on a copy of a slice from a DataFrame.\n",
      "Try using .loc[row_indexer,col_indexer] = value instead\n",
      "\n",
      "See the caveats in the documentation: https://pandas.pydata.org/pandas-docs/stable/user_guide/indexing.html#returning-a-view-versus-a-copy\n",
      "  \"\"\"Entry point for launching an IPython kernel.\n"
     ]
    }
   ],
   "source": [
    "private['address'] = full_add"
   ]
  },
  {
   "cell_type": "code",
   "execution_count": 17,
   "metadata": {},
   "outputs": [
    {
     "data": {
      "text/html": [
       "<div>\n",
       "<style scoped>\n",
       "    .dataframe tbody tr th:only-of-type {\n",
       "        vertical-align: middle;\n",
       "    }\n",
       "\n",
       "    .dataframe tbody tr th {\n",
       "        vertical-align: top;\n",
       "    }\n",
       "\n",
       "    .dataframe thead th {\n",
       "        text-align: right;\n",
       "    }\n",
       "</style>\n",
       "<table border=\"1\" class=\"dataframe\">\n",
       "  <thead>\n",
       "    <tr style=\"text-align: right;\">\n",
       "      <th></th>\n",
       "      <th>X</th>\n",
       "      <th>Y</th>\n",
       "      <th>LabelName</th>\n",
       "      <th>address</th>\n",
       "    </tr>\n",
       "  </thead>\n",
       "  <tbody>\n",
       "    <tr>\n",
       "      <th>0</th>\n",
       "      <td>144.983399</td>\n",
       "      <td>-37.809681</td>\n",
       "      <td>East Melbourne Specialist Day Hospital</td>\n",
       "      <td>23 Clarendon Street Melbourne VIC 3002</td>\n",
       "    </tr>\n",
       "    <tr>\n",
       "      <th>1</th>\n",
       "      <td>145.149300</td>\n",
       "      <td>-37.951400</td>\n",
       "      <td>Windsor Avenue Day Surgery</td>\n",
       "      <td>17 Windsor Avenue Windsor VIC 3171</td>\n",
       "    </tr>\n",
       "    <tr>\n",
       "      <th>2</th>\n",
       "      <td>145.344653</td>\n",
       "      <td>-38.034580</td>\n",
       "      <td>Hyperbaric Health Wound Centre Berwick</td>\n",
       "      <td>3 Gibb Street Casey VIC 3806</td>\n",
       "    </tr>\n",
       "    <tr>\n",
       "      <th>3</th>\n",
       "      <td>143.832286</td>\n",
       "      <td>-37.540553</td>\n",
       "      <td>Ballarat Day Procedure Centre</td>\n",
       "      <td>1117-1123 Howitt Street Ballarat VIC 3355</td>\n",
       "    </tr>\n",
       "    <tr>\n",
       "      <th>4</th>\n",
       "      <td>145.143379</td>\n",
       "      <td>-38.148189</td>\n",
       "      <td>Bayside Day Procedure and Specialist Centre</td>\n",
       "      <td>141 Cranbourne Road Frankston VIC 3199</td>\n",
       "    </tr>\n",
       "  </tbody>\n",
       "</table>\n",
       "</div>"
      ],
      "text/plain": [
       "            X          Y                                    LabelName  \\\n",
       "0  144.983399 -37.809681       East Melbourne Specialist Day Hospital   \n",
       "1  145.149300 -37.951400                   Windsor Avenue Day Surgery   \n",
       "2  145.344653 -38.034580       Hyperbaric Health Wound Centre Berwick   \n",
       "3  143.832286 -37.540553                Ballarat Day Procedure Centre   \n",
       "4  145.143379 -38.148189  Bayside Day Procedure and Specialist Centre   \n",
       "\n",
       "                                     address  \n",
       "0     23 Clarendon Street Melbourne VIC 3002  \n",
       "1         17 Windsor Avenue Windsor VIC 3171  \n",
       "2               3 Gibb Street Casey VIC 3806  \n",
       "3  1117-1123 Howitt Street Ballarat VIC 3355  \n",
       "4     141 Cranbourne Road Frankston VIC 3199  "
      ]
     },
     "execution_count": 17,
     "metadata": {},
     "output_type": "execute_result"
    }
   ],
   "source": [
    "private = private[['X', 'Y', 'LabelName', 'address']]\n",
    "private.head()"
   ]
  },
  {
   "cell_type": "markdown",
   "metadata": {},
   "source": [
    "## 3.2 Public hospital"
   ]
  },
  {
   "cell_type": "code",
   "execution_count": 18,
   "metadata": {},
   "outputs": [
    {
     "data": {
      "text/html": [
       "<div>\n",
       "<style scoped>\n",
       "    .dataframe tbody tr th:only-of-type {\n",
       "        vertical-align: middle;\n",
       "    }\n",
       "\n",
       "    .dataframe tbody tr th {\n",
       "        vertical-align: top;\n",
       "    }\n",
       "\n",
       "    .dataframe thead th {\n",
       "        text-align: right;\n",
       "    }\n",
       "</style>\n",
       "<table border=\"1\" class=\"dataframe\">\n",
       "  <thead>\n",
       "    <tr style=\"text-align: right;\">\n",
       "      <th></th>\n",
       "      <th>X</th>\n",
       "      <th>Y</th>\n",
       "      <th>FID</th>\n",
       "      <th>LabelName</th>\n",
       "      <th>OpsName</th>\n",
       "      <th>Type</th>\n",
       "      <th>StreetNum</th>\n",
       "      <th>RoadName</th>\n",
       "      <th>RoadType</th>\n",
       "      <th>RoadSuffix</th>\n",
       "      <th>CampusCode</th>\n",
       "      <th>LGAName</th>\n",
       "      <th>LocalityNa</th>\n",
       "      <th>Postcode</th>\n",
       "      <th>VicgovRegi</th>\n",
       "      <th>State</th>\n",
       "      <th>ServiceNam</th>\n",
       "    </tr>\n",
       "  </thead>\n",
       "  <tbody>\n",
       "    <tr>\n",
       "      <th>175</th>\n",
       "      <td>145.0167</td>\n",
       "      <td>-37.8824</td>\n",
       "      <td>176</td>\n",
       "      <td>Caulfield General Medical Centre</td>\n",
       "      <td>CAULFIELD PUBLIC HOSPITAL</td>\n",
       "      <td>PUBLIC</td>\n",
       "      <td>260</td>\n",
       "      <td>KOOYONG</td>\n",
       "      <td>ROAD</td>\n",
       "      <td></td>\n",
       "      <td>1370</td>\n",
       "      <td>Glen Eira (C)</td>\n",
       "      <td>CAULFIELD</td>\n",
       "      <td>3162</td>\n",
       "      <td>SMR</td>\n",
       "      <td>VIC</td>\n",
       "      <td>Alfred Health</td>\n",
       "    </tr>\n",
       "    <tr>\n",
       "      <th>176</th>\n",
       "      <td>146.9834</td>\n",
       "      <td>-37.9612</td>\n",
       "      <td>177</td>\n",
       "      <td>Central Gippsland Health Service (Maffra)</td>\n",
       "      <td>MAFFRA PUBLIC HOSPITAL</td>\n",
       "      <td>PUBLIC</td>\n",
       "      <td>42-48</td>\n",
       "      <td>KENT</td>\n",
       "      <td>STREET</td>\n",
       "      <td></td>\n",
       "      <td>2580</td>\n",
       "      <td>Wellington (S)</td>\n",
       "      <td>MAFFRA</td>\n",
       "      <td>3860</td>\n",
       "      <td>Gipp</td>\n",
       "      <td>VIC</td>\n",
       "      <td>Central Gippsland Health Service</td>\n",
       "    </tr>\n",
       "    <tr>\n",
       "      <th>177</th>\n",
       "      <td>147.0808</td>\n",
       "      <td>-38.1080</td>\n",
       "      <td>178</td>\n",
       "      <td>Central Gippsland Health Service (Sale)</td>\n",
       "      <td>SALE PUBLIC HOSPITAL</td>\n",
       "      <td>PUBLIC</td>\n",
       "      <td>155</td>\n",
       "      <td>GUTHRIDGE</td>\n",
       "      <td>PARADE</td>\n",
       "      <td></td>\n",
       "      <td>2060</td>\n",
       "      <td>Wellington (S)</td>\n",
       "      <td>SALE</td>\n",
       "      <td>3850</td>\n",
       "      <td>Gipp</td>\n",
       "      <td>VIC</td>\n",
       "      <td>Central Gippsland Health Service</td>\n",
       "    </tr>\n",
       "    <tr>\n",
       "      <th>178</th>\n",
       "      <td>145.6512</td>\n",
       "      <td>-35.9165</td>\n",
       "      <td>179</td>\n",
       "      <td>Cobram District Health</td>\n",
       "      <td>COBRAM PUBLIC HOSPITAL</td>\n",
       "      <td>PUBLIC</td>\n",
       "      <td>24-32</td>\n",
       "      <td>BROADWAY</td>\n",
       "      <td>STREET</td>\n",
       "      <td></td>\n",
       "      <td>5120</td>\n",
       "      <td>Moira (S)</td>\n",
       "      <td>COBRAM</td>\n",
       "      <td>3644</td>\n",
       "      <td>HUME</td>\n",
       "      <td>VIC</td>\n",
       "      <td>Cobram District Health</td>\n",
       "    </tr>\n",
       "    <tr>\n",
       "      <th>179</th>\n",
       "      <td>144.2147</td>\n",
       "      <td>-35.8003</td>\n",
       "      <td>180</td>\n",
       "      <td>Cohuna District Hospital</td>\n",
       "      <td>COHUNA PUBLIC HOSPITAL</td>\n",
       "      <td>PUBLIC</td>\n",
       "      <td>144-158</td>\n",
       "      <td>KING GEORGE</td>\n",
       "      <td>STREET</td>\n",
       "      <td></td>\n",
       "      <td>2130</td>\n",
       "      <td>Gannawarra (S)</td>\n",
       "      <td>COHUNA</td>\n",
       "      <td>3568</td>\n",
       "      <td>LMR</td>\n",
       "      <td>VIC</td>\n",
       "      <td>Cohuna District Hospital</td>\n",
       "    </tr>\n",
       "  </tbody>\n",
       "</table>\n",
       "</div>"
      ],
      "text/plain": [
       "            X        Y  FID                                  LabelName  \\\n",
       "175  145.0167 -37.8824  176           Caulfield General Medical Centre   \n",
       "176  146.9834 -37.9612  177  Central Gippsland Health Service (Maffra)   \n",
       "177  147.0808 -38.1080  178    Central Gippsland Health Service (Sale)   \n",
       "178  145.6512 -35.9165  179                     Cobram District Health   \n",
       "179  144.2147 -35.8003  180                   Cohuna District Hospital   \n",
       "\n",
       "                       OpsName    Type StreetNum     RoadName RoadType  \\\n",
       "175  CAULFIELD PUBLIC HOSPITAL  PUBLIC       260      KOOYONG     ROAD   \n",
       "176     MAFFRA PUBLIC HOSPITAL  PUBLIC     42-48         KENT   STREET   \n",
       "177       SALE PUBLIC HOSPITAL  PUBLIC       155    GUTHRIDGE   PARADE   \n",
       "178     COBRAM PUBLIC HOSPITAL  PUBLIC     24-32     BROADWAY   STREET   \n",
       "179     COHUNA PUBLIC HOSPITAL  PUBLIC   144-158  KING GEORGE   STREET   \n",
       "\n",
       "    RoadSuffix  CampusCode         LGAName LocalityNa  Postcode VicgovRegi  \\\n",
       "175                   1370   Glen Eira (C)  CAULFIELD      3162        SMR   \n",
       "176                   2580  Wellington (S)     MAFFRA      3860       Gipp   \n",
       "177                   2060  Wellington (S)       SALE      3850       Gipp   \n",
       "178                   5120       Moira (S)     COBRAM      3644       HUME   \n",
       "179                   2130  Gannawarra (S)     COHUNA      3568        LMR   \n",
       "\n",
       "    State                        ServiceNam  \n",
       "175   VIC                     Alfred Health  \n",
       "176   VIC  Central Gippsland Health Service  \n",
       "177   VIC  Central Gippsland Health Service  \n",
       "178   VIC            Cobram District Health  \n",
       "179   VIC          Cohuna District Hospital  "
      ]
     },
     "execution_count": 18,
     "metadata": {},
     "output_type": "execute_result"
    }
   ],
   "source": [
    "public.head()"
   ]
  },
  {
   "cell_type": "code",
   "execution_count": 19,
   "metadata": {},
   "outputs": [],
   "source": [
    "full_add = []\n",
    "for i in range(len(public)):\n",
    "    #get num\n",
    "    num = public['StreetNum'].iloc[i].strip()\n",
    "    \n",
    "    #get road name\n",
    "    road = formattedName(public['RoadName'].iloc[i])\n",
    "    \n",
    "    #get road type\n",
    "    road_type = formattedName(public['RoadType'].iloc[i])\n",
    "    \n",
    "    #get suburb\n",
    "    suburb = formattedName(public['LocalityNa'].iloc[i])\n",
    "    \n",
    "    #get postcode\n",
    "    pc = public['Postcode'].iloc[i]\n",
    "    \n",
    "    address = num + \" \" + road + \" \" + road_type + \" \" + suburb + \" VIC \" + str(pc)\n",
    "    full_add.append(address)"
   ]
  },
  {
   "cell_type": "code",
   "execution_count": 20,
   "metadata": {},
   "outputs": [
    {
     "name": "stderr",
     "output_type": "stream",
     "text": [
      "/Users/luxiaolu/opt/anaconda3/lib/python3.7/site-packages/ipykernel_launcher.py:1: SettingWithCopyWarning: \n",
      "A value is trying to be set on a copy of a slice from a DataFrame.\n",
      "Try using .loc[row_indexer,col_indexer] = value instead\n",
      "\n",
      "See the caveats in the documentation: https://pandas.pydata.org/pandas-docs/stable/user_guide/indexing.html#returning-a-view-versus-a-copy\n",
      "  \"\"\"Entry point for launching an IPython kernel.\n"
     ]
    }
   ],
   "source": [
    "public['address'] = full_add"
   ]
  },
  {
   "cell_type": "code",
   "execution_count": 21,
   "metadata": {},
   "outputs": [
    {
     "data": {
      "text/html": [
       "<div>\n",
       "<style scoped>\n",
       "    .dataframe tbody tr th:only-of-type {\n",
       "        vertical-align: middle;\n",
       "    }\n",
       "\n",
       "    .dataframe tbody tr th {\n",
       "        vertical-align: top;\n",
       "    }\n",
       "\n",
       "    .dataframe thead th {\n",
       "        text-align: right;\n",
       "    }\n",
       "</style>\n",
       "<table border=\"1\" class=\"dataframe\">\n",
       "  <thead>\n",
       "    <tr style=\"text-align: right;\">\n",
       "      <th></th>\n",
       "      <th>X</th>\n",
       "      <th>Y</th>\n",
       "      <th>LabelName</th>\n",
       "      <th>address</th>\n",
       "    </tr>\n",
       "  </thead>\n",
       "  <tbody>\n",
       "    <tr>\n",
       "      <th>175</th>\n",
       "      <td>145.0167</td>\n",
       "      <td>-37.8824</td>\n",
       "      <td>Caulfield General Medical Centre</td>\n",
       "      <td>260 Kooyong Road Caulfield VIC 3162</td>\n",
       "    </tr>\n",
       "    <tr>\n",
       "      <th>176</th>\n",
       "      <td>146.9834</td>\n",
       "      <td>-37.9612</td>\n",
       "      <td>Central Gippsland Health Service (Maffra)</td>\n",
       "      <td>42-48 Kent Street Maffra VIC 3860</td>\n",
       "    </tr>\n",
       "    <tr>\n",
       "      <th>177</th>\n",
       "      <td>147.0808</td>\n",
       "      <td>-38.1080</td>\n",
       "      <td>Central Gippsland Health Service (Sale)</td>\n",
       "      <td>155 Guthridge Parade Sale VIC 3850</td>\n",
       "    </tr>\n",
       "    <tr>\n",
       "      <th>178</th>\n",
       "      <td>145.6512</td>\n",
       "      <td>-35.9165</td>\n",
       "      <td>Cobram District Health</td>\n",
       "      <td>24-32 Broadway Street Cobram VIC 3644</td>\n",
       "    </tr>\n",
       "    <tr>\n",
       "      <th>179</th>\n",
       "      <td>144.2147</td>\n",
       "      <td>-35.8003</td>\n",
       "      <td>Cohuna District Hospital</td>\n",
       "      <td>144-158 Broadway Street Cohuna VIC 3568</td>\n",
       "    </tr>\n",
       "  </tbody>\n",
       "</table>\n",
       "</div>"
      ],
      "text/plain": [
       "            X        Y                                  LabelName  \\\n",
       "175  145.0167 -37.8824           Caulfield General Medical Centre   \n",
       "176  146.9834 -37.9612  Central Gippsland Health Service (Maffra)   \n",
       "177  147.0808 -38.1080    Central Gippsland Health Service (Sale)   \n",
       "178  145.6512 -35.9165                     Cobram District Health   \n",
       "179  144.2147 -35.8003                   Cohuna District Hospital   \n",
       "\n",
       "                                     address  \n",
       "175      260 Kooyong Road Caulfield VIC 3162  \n",
       "176        42-48 Kent Street Maffra VIC 3860  \n",
       "177       155 Guthridge Parade Sale VIC 3850  \n",
       "178    24-32 Broadway Street Cobram VIC 3644  \n",
       "179  144-158 Broadway Street Cohuna VIC 3568  "
      ]
     },
     "execution_count": 21,
     "metadata": {},
     "output_type": "execute_result"
    }
   ],
   "source": [
    "public = public[['X', 'Y', 'LabelName', 'address']]\n",
    "public.head()"
   ]
  },
  {
   "cell_type": "markdown",
   "metadata": {},
   "source": [
    "# 4. Get latitude and longitude for aged care"
   ]
  },
  {
   "cell_type": "code",
   "execution_count": 22,
   "metadata": {},
   "outputs": [],
   "source": [
    "from geopy.geocoders import Nominatim\n",
    "geolocator = Nominatim(user_agent=\"thunderstorm_asthma\")"
   ]
  },
  {
   "cell_type": "code",
   "execution_count": 23,
   "metadata": {},
   "outputs": [
    {
     "data": {
      "text/html": [
       "<div>\n",
       "<style scoped>\n",
       "    .dataframe tbody tr th:only-of-type {\n",
       "        vertical-align: middle;\n",
       "    }\n",
       "\n",
       "    .dataframe tbody tr th {\n",
       "        vertical-align: top;\n",
       "    }\n",
       "\n",
       "    .dataframe thead th {\n",
       "        text-align: right;\n",
       "    }\n",
       "</style>\n",
       "<table border=\"1\" class=\"dataframe\">\n",
       "  <thead>\n",
       "    <tr style=\"text-align: right;\">\n",
       "      <th></th>\n",
       "      <th>SERVICE_NAME</th>\n",
       "      <th>ADDRESS</th>\n",
       "      <th>STREET_SUBURB</th>\n",
       "    </tr>\n",
       "  </thead>\n",
       "  <tbody>\n",
       "    <tr>\n",
       "      <th>0</th>\n",
       "      <td>Mercy Place East Melbourne</td>\n",
       "      <td>22 Verona Lane East Melbourne 3002 VIC Australia</td>\n",
       "      <td>East Melbourne</td>\n",
       "    </tr>\n",
       "    <tr>\n",
       "      <th>1</th>\n",
       "      <td>Royal Freemasons Coppin Centre</td>\n",
       "      <td>45 Moubray Street Melbourne 3004 VIC Australia</td>\n",
       "      <td>Melbourne</td>\n",
       "    </tr>\n",
       "    <tr>\n",
       "      <th>2</th>\n",
       "      <td>Jewish Care : Residential Homes, Windsor</td>\n",
       "      <td>619 St Kilda Road Melbourne 3004 VIC Australia</td>\n",
       "      <td>Melbourne</td>\n",
       "    </tr>\n",
       "    <tr>\n",
       "      <th>3</th>\n",
       "      <td>James Barker House</td>\n",
       "      <td>64 Buckley Street Footscray 3011 VIC Australia</td>\n",
       "      <td>Footscray</td>\n",
       "    </tr>\n",
       "    <tr>\n",
       "      <th>4</th>\n",
       "      <td>Royal Freemasons Footscray Aged Care</td>\n",
       "      <td>25 Mephan Street Footscray 3011 VIC Australia</td>\n",
       "      <td>Footscray</td>\n",
       "    </tr>\n",
       "    <tr>\n",
       "      <th>5</th>\n",
       "      <td>Baptcare Westhaven Community</td>\n",
       "      <td>50 Pickett Street Footscray 3011 VIC Australia</td>\n",
       "      <td>Footscray</td>\n",
       "    </tr>\n",
       "    <tr>\n",
       "      <th>6</th>\n",
       "      <td>Doutta Galla Footscray Aged Care Facility</td>\n",
       "      <td>48 Geelong Road Footscray 3011 VIC Australia</td>\n",
       "      <td>Footscray</td>\n",
       "    </tr>\n",
       "    <tr>\n",
       "      <th>7</th>\n",
       "      <td>Uniting AgeWell Kingsville Community</td>\n",
       "      <td>319 Geelong Road Kingsville 3012 VIC Australia</td>\n",
       "      <td>Kingsville</td>\n",
       "    </tr>\n",
       "    <tr>\n",
       "      <th>8</th>\n",
       "      <td>Arcare Maidstone</td>\n",
       "      <td>31 Hampstead Road Maidstone 3012 VIC Australia</td>\n",
       "      <td>Maidstone</td>\n",
       "    </tr>\n",
       "    <tr>\n",
       "      <th>9</th>\n",
       "      <td>Doutta Galla Yarraville Village Aged Care Faci...</td>\n",
       "      <td>34 A Somerville Road Yarraville 3013 VIC Austr...</td>\n",
       "      <td>Yarraville</td>\n",
       "    </tr>\n",
       "  </tbody>\n",
       "</table>\n",
       "</div>"
      ],
      "text/plain": [
       "                                        SERVICE_NAME  \\\n",
       "0                         Mercy Place East Melbourne   \n",
       "1                     Royal Freemasons Coppin Centre   \n",
       "2           Jewish Care : Residential Homes, Windsor   \n",
       "3                                 James Barker House   \n",
       "4               Royal Freemasons Footscray Aged Care   \n",
       "5                       Baptcare Westhaven Community   \n",
       "6          Doutta Galla Footscray Aged Care Facility   \n",
       "7               Uniting AgeWell Kingsville Community   \n",
       "8                                   Arcare Maidstone   \n",
       "9  Doutta Galla Yarraville Village Aged Care Faci...   \n",
       "\n",
       "                                             ADDRESS   STREET_SUBURB  \n",
       "0   22 Verona Lane East Melbourne 3002 VIC Australia  East Melbourne  \n",
       "1     45 Moubray Street Melbourne 3004 VIC Australia       Melbourne  \n",
       "2     619 St Kilda Road Melbourne 3004 VIC Australia       Melbourne  \n",
       "3     64 Buckley Street Footscray 3011 VIC Australia       Footscray  \n",
       "4      25 Mephan Street Footscray 3011 VIC Australia       Footscray  \n",
       "5     50 Pickett Street Footscray 3011 VIC Australia       Footscray  \n",
       "6       48 Geelong Road Footscray 3011 VIC Australia       Footscray  \n",
       "7     319 Geelong Road Kingsville 3012 VIC Australia      Kingsville  \n",
       "8     31 Hampstead Road Maidstone 3012 VIC Australia       Maidstone  \n",
       "9  34 A Somerville Road Yarraville 3013 VIC Austr...      Yarraville  "
      ]
     },
     "execution_count": 23,
     "metadata": {},
     "output_type": "execute_result"
    }
   ],
   "source": [
    "aged_care.head(10)"
   ]
  },
  {
   "cell_type": "code",
   "execution_count": null,
   "metadata": {},
   "outputs": [],
   "source": [
    "X = []\n",
    "Y = []\n",
    "\n",
    "for add in aged_care['ADDRESS']:\n",
    "    location = geolocator.geocode(add, timeout=None)\n",
    "    if location:\n",
    "        lat = location.latitude\n",
    "        long = location.longitude\n",
    "        X.append(lat)\n",
    "        Y.append(long)\n",
    "    else:\n",
    "        lat = None\n",
    "        long = None\n",
    "        X.append(lat)\n",
    "        Y.append(long)"
   ]
  },
  {
   "cell_type": "code",
   "execution_count": null,
   "metadata": {},
   "outputs": [],
   "source": [
    "aged_care['X'] = X\n",
    "aged_care['Y'] = Y"
   ]
  },
  {
   "cell_type": "code",
   "execution_count": null,
   "metadata": {},
   "outputs": [],
   "source": [
    "aged_care.head(10)"
   ]
  },
  {
   "cell_type": "markdown",
   "metadata": {},
   "source": [
    "# 5. Find nearest hospital"
   ]
  },
  {
   "cell_type": "code",
   "execution_count": null,
   "metadata": {},
   "outputs": [],
   "source": [
    "from geopy.distance import geodesic"
   ]
  },
  {
   "cell_type": "markdown",
   "metadata": {},
   "source": [
    "## 5.1 Aged care"
   ]
  },
  {
   "cell_type": "code",
   "execution_count": null,
   "metadata": {},
   "outputs": [],
   "source": [
    "def distance(place_lat, place_long, hos_lat, hos_long):\n",
    "    place = (place_lat, place_long)\n",
    "    hosp = (hos_lat, hos_long)\n",
    "    dis = geodesic(place, hosp).miles\n",
    "    return (dis)"
   ]
  },
  {
   "cell_type": "markdown",
   "metadata": {},
   "source": [
    "### 5.1.1 Private hospital"
   ]
  },
  {
   "cell_type": "code",
   "execution_count": null,
   "metadata": {},
   "outputs": [],
   "source": [
    "private_hosp = []\n",
    "private_hosp_add = []\n",
    "private_min_dis = []\n",
    "\n",
    "for i in range(len(aged_care)):\n",
    "    distance_list = []\n",
    "    place_lat = aged_care['X'].iloc[i]\n",
    "    place_long = aged_care['Y'].iloc[i]\n",
    "    \n",
    "    if not math.isnan(place_lat):\n",
    "        for j in range(len(private)):\n",
    "            hos_lat = private['Y'].iloc[j]\n",
    "            hos_long = private['X'].iloc[j]\n",
    "        \n",
    "            dis = distance(place_lat, place_long, hos_lat, hos_long)\n",
    "            distance_list.append(dis)\n",
    "    \n",
    "        minpos = distance_list.index(min(distance_list))\n",
    "        nearest = private['LabelName'].iloc[minpos]\n",
    "        add = private['address'].iloc[minpos]\n",
    "        min_dis = min(distance_list)\n",
    "    \n",
    "        private_hosp.append(nearest)\n",
    "        private_hosp_add.append(add)\n",
    "        private_min_dis.append(round(min_dis, 2))\n",
    "    else:\n",
    "        private_hosp.append(None)\n",
    "        private_hosp_add.append(None)\n",
    "        private_min_dis.append(None)"
   ]
  },
  {
   "cell_type": "code",
   "execution_count": null,
   "metadata": {},
   "outputs": [],
   "source": [
    "aged = []\n",
    "for each in aged_care['SERVICE_NAME']:\n",
    "    aged.append(each)"
   ]
  },
  {
   "cell_type": "code",
   "execution_count": null,
   "metadata": {},
   "outputs": [],
   "source": [
    "aged_care_nearest_private = pd.DataFrame({'Aged Care': aged, 'Nearest Hospital':private_hosp, \n",
    "                                          'Hopsital Address':private_hosp_add, 'Distance (miles)':private_min_dis})"
   ]
  },
  {
   "cell_type": "code",
   "execution_count": null,
   "metadata": {},
   "outputs": [],
   "source": [
    "aged_care_nearest_private.head()"
   ]
  },
  {
   "cell_type": "code",
   "execution_count": null,
   "metadata": {},
   "outputs": [],
   "source": [
    "aged_care_nearest_private.to_csv(\"agedCare_nearest_private_hosp.csv\", index = False)"
   ]
  },
  {
   "cell_type": "markdown",
   "metadata": {},
   "source": [
    "### 5.1.2 Public hospital"
   ]
  },
  {
   "cell_type": "code",
   "execution_count": null,
   "metadata": {},
   "outputs": [],
   "source": [
    "public_hosp = []\n",
    "public_hosp_add = []\n",
    "public_min_dis = []\n",
    "\n",
    "for i in range(len(aged_care)):\n",
    "    distance_list = []\n",
    "    place_lat = aged_care['X'].iloc[i]\n",
    "    place_long = aged_care['Y'].iloc[i]\n",
    "    \n",
    "    if not math.isnan(place_lat):\n",
    "        for j in range(len(public)):\n",
    "            hos_lat = public['Y'].iloc[j]\n",
    "            hos_long = public['X'].iloc[j]\n",
    "        \n",
    "            dis = distance(place_lat, place_long, hos_lat, hos_long)\n",
    "            distance_list.append(dis)\n",
    "    \n",
    "        minpos = distance_list.index(min(distance_list))\n",
    "        nearest = public['LabelName'].iloc[minpos]\n",
    "        add = public['address'].iloc[minpos]\n",
    "        min_dis = min(distance_list)\n",
    "    \n",
    "        public_hosp.append(nearest)\n",
    "        public_hosp_add.append(add)\n",
    "        public_min_dis.append(round(min_dis, 2))\n",
    "    else:\n",
    "        public_hosp.append(None)\n",
    "        public_hosp_add.append(None)\n",
    "        public_min_dis.append(None)"
   ]
  },
  {
   "cell_type": "code",
   "execution_count": null,
   "metadata": {},
   "outputs": [],
   "source": [
    "aged_care_nearest_public = pd.DataFrame({'Aged Care': aged, 'Nearest Hospital':public_hosp, \n",
    "                                          'Hopsital Address':public_hosp_add, 'Distance (miles)':public_min_dis})"
   ]
  },
  {
   "cell_type": "code",
   "execution_count": null,
   "metadata": {},
   "outputs": [],
   "source": [
    "aged_care_nearest_public.head()"
   ]
  },
  {
   "cell_type": "code",
   "execution_count": null,
   "metadata": {},
   "outputs": [],
   "source": [
    "aged_care_nearest_public.to_csv(\"agedCare_nearest_public_hosp.csv\", index = False)"
   ]
  },
  {
   "cell_type": "markdown",
   "metadata": {},
   "source": [
    "## 5.2 School"
   ]
  },
  {
   "cell_type": "code",
   "execution_count": null,
   "metadata": {},
   "outputs": [],
   "source": [
    "school.head()"
   ]
  },
  {
   "cell_type": "code",
   "execution_count": null,
   "metadata": {},
   "outputs": [],
   "source": [
    "schoolName = list(school['school_name'])"
   ]
  },
  {
   "cell_type": "markdown",
   "metadata": {},
   "source": [
    "### 5.2.1 Private hospital"
   ]
  },
  {
   "cell_type": "code",
   "execution_count": null,
   "metadata": {},
   "outputs": [],
   "source": [
    "private_hosp_school = []\n",
    "private_hosp_add_school = []\n",
    "private_min_dis_school = []\n",
    "\n",
    "for i in range(len(school)):\n",
    "    distance_list = []\n",
    "    place_lat = school['x'].iloc[i]\n",
    "    place_long = school['y'].iloc[i]\n",
    "    \n",
    "    for j in range(len(private)):\n",
    "        hos_lat = private['Y'].iloc[j]\n",
    "        hos_long = private['X'].iloc[j]\n",
    "        \n",
    "        dis = distance(place_lat, place_long, hos_lat, hos_long)\n",
    "        distance_list.append(dis)\n",
    "    \n",
    "    minpos = distance_list.index(min(distance_list))\n",
    "    nearest = private['LabelName'].iloc[minpos]\n",
    "    add = private['address'].iloc[minpos]\n",
    "    min_dis = min(distance_list)\n",
    "    \n",
    "    private_hosp_school.append(nearest)\n",
    "    private_hosp_add_school.append(add)\n",
    "    private_min_dis_school.append(round(min_dis, 2))"
   ]
  },
  {
   "cell_type": "code",
   "execution_count": null,
   "metadata": {},
   "outputs": [],
   "source": [
    "school_nearest_private = pd.DataFrame({'School': schoolName, 'Nearest Hospital':private_hosp_school, \n",
    "                                       'Hopsital Address':private_hosp_add_school, \n",
    "                                       'Distance (miles)':private_min_dis_school})"
   ]
  },
  {
   "cell_type": "code",
   "execution_count": null,
   "metadata": {},
   "outputs": [],
   "source": [
    "school_nearest_private.head()"
   ]
  },
  {
   "cell_type": "code",
   "execution_count": null,
   "metadata": {},
   "outputs": [],
   "source": [
    "school_nearest_private.to_csv(\"school_nearest_private.csv\", index = False)"
   ]
  },
  {
   "cell_type": "markdown",
   "metadata": {},
   "source": [
    "### 5.2.2 Public hospital"
   ]
  },
  {
   "cell_type": "code",
   "execution_count": null,
   "metadata": {},
   "outputs": [],
   "source": [
    "public_hosp_school = []\n",
    "public_hosp_add_school = []\n",
    "public_min_dis_school = []\n",
    "\n",
    "for i in range(len(school)):\n",
    "    distance_list = []\n",
    "    place_lat = school['x'].iloc[i]\n",
    "    place_long = school['y'].iloc[i]\n",
    "    \n",
    "    for j in range(len(public)):\n",
    "        hos_lat = public['Y'].iloc[j]\n",
    "        hos_long = public['X'].iloc[j]\n",
    "        \n",
    "        dis = distance(place_lat, place_long, hos_lat, hos_long)\n",
    "        distance_list.append(dis)\n",
    "    \n",
    "    minpos = distance_list.index(min(distance_list))\n",
    "    nearest = public['LabelName'].iloc[minpos]\n",
    "    add = public['address'].iloc[minpos]\n",
    "    min_dis = min(distance_list)\n",
    "    \n",
    "    public_hosp_school.append(nearest)\n",
    "    public_hosp_add_school.append(add)\n",
    "    public_min_dis_school.append(round(min_dis, 2))"
   ]
  },
  {
   "cell_type": "code",
   "execution_count": null,
   "metadata": {},
   "outputs": [],
   "source": [
    "school_nearest_public = pd.DataFrame({'School': schoolName, 'Nearest Hospital':public_hosp_school, \n",
    "                                       'Hopsital Address':public_hosp_add_school, \n",
    "                                       'Distance (miles)':public_min_dis_school})"
   ]
  },
  {
   "cell_type": "code",
   "execution_count": null,
   "metadata": {},
   "outputs": [],
   "source": [
    "school_nearest_public.head()"
   ]
  },
  {
   "cell_type": "code",
   "execution_count": null,
   "metadata": {},
   "outputs": [],
   "source": [
    "school_nearest_public.to_csv(\"school_nearest_public.csv\", index = False)"
   ]
  },
  {
   "cell_type": "code",
   "execution_count": null,
   "metadata": {},
   "outputs": [],
   "source": []
  }
 ],
 "metadata": {
  "kernelspec": {
   "display_name": "Python 3",
   "language": "python",
   "name": "python3"
  },
  "language_info": {
   "codemirror_mode": {
    "name": "ipython",
    "version": 3
   },
   "file_extension": ".py",
   "mimetype": "text/x-python",
   "name": "python",
   "nbconvert_exporter": "python",
   "pygments_lexer": "ipython3",
   "version": "3.7.6"
  }
 },
 "nbformat": 4,
 "nbformat_minor": 4
}
